{
  "nbformat": 4,
  "nbformat_minor": 0,
  "metadata": {
    "colab": {
      "name": "Tensorflow Basics.ipynb",
      "version": "0.3.2",
      "provenance": [],
      "include_colab_link": true
    },
    "kernelspec": {
      "name": "python3",
      "display_name": "Python 3"
    }
  },
  "cells": [
    {
      "cell_type": "markdown",
      "metadata": {
        "id": "view-in-github",
        "colab_type": "text"
      },
      "source": [
        "<a href=\"https://colab.research.google.com/github/DhamuSniper/Complete-guide-to-deep-learning-with-Tensorflow---Exercises/blob/master/Tensorflow_Basics.ipynb\" target=\"_parent\"><img src=\"https://colab.research.google.com/assets/colab-badge.svg\" alt=\"Open In Colab\"/></a>"
      ]
    },
    {
      "cell_type": "code",
      "metadata": {
        "id": "GPMrl_SMAjKv",
        "colab_type": "code",
        "colab": {}
      },
      "source": [
        "import tensorflow as tf"
      ],
      "execution_count": 0,
      "outputs": []
    },
    {
      "cell_type": "code",
      "metadata": {
        "id": "t2_2Ao3NAr-s",
        "colab_type": "code",
        "outputId": "c3513d41-23a0-4a3f-aa0b-178fbe478f28",
        "colab": {
          "base_uri": "https://localhost:8080/",
          "height": 35
        }
      },
      "source": [
        "print(tf.__version__)"
      ],
      "execution_count": 0,
      "outputs": [
        {
          "output_type": "stream",
          "text": [
            "1.14.0\n"
          ],
          "name": "stdout"
        }
      ]
    },
    {
      "cell_type": "code",
      "metadata": {
        "id": "yB3YzNYnA3Cf",
        "colab_type": "code",
        "colab": {}
      },
      "source": [
        "a_var=tf.constant(\"hello\")"
      ],
      "execution_count": 0,
      "outputs": []
    },
    {
      "cell_type": "code",
      "metadata": {
        "id": "DxM3w-1aBCUe",
        "colab_type": "code",
        "outputId": "7a13bd71-be85-426a-f6ce-69d6c4a363ca",
        "colab": {
          "base_uri": "https://localhost:8080/",
          "height": 35
        }
      },
      "source": [
        "print(a_var)"
      ],
      "execution_count": 0,
      "outputs": [
        {
          "output_type": "stream",
          "text": [
            "Tensor(\"Const:0\", shape=(), dtype=string)\n"
          ],
          "name": "stdout"
        }
      ]
    },
    {
      "cell_type": "code",
      "metadata": {
        "id": "l-q1awlzBGbW",
        "colab_type": "code",
        "outputId": "f3136d26-b983-4f91-a551-447ab7659b15",
        "colab": {
          "base_uri": "https://localhost:8080/",
          "height": 35
        }
      },
      "source": [
        "b_var=tf.constant(\"world\")\n",
        "print(b_var)"
      ],
      "execution_count": 0,
      "outputs": [
        {
          "output_type": "stream",
          "text": [
            "Tensor(\"Const_1:0\", shape=(), dtype=string)\n"
          ],
          "name": "stdout"
        }
      ]
    },
    {
      "cell_type": "code",
      "metadata": {
        "id": "FTiZsT39BNWG",
        "colab_type": "code",
        "outputId": "3d8f1ca0-db9e-40c5-c0b2-bc0e677a85a7",
        "colab": {
          "base_uri": "https://localhost:8080/",
          "height": 35
        }
      },
      "source": [
        "with tf.Session() as sess:\n",
        "  result=sess.run(a_var+b_var)\n",
        "\n",
        "print(result)"
      ],
      "execution_count": 0,
      "outputs": [
        {
          "output_type": "stream",
          "text": [
            "b'helloworld'\n"
          ],
          "name": "stdout"
        }
      ]
    },
    {
      "cell_type": "markdown",
      "metadata": {
        "id": "QXAlWFLzCFOW",
        "colab_type": "text"
      },
      "source": [
        "**Interactive Session**"
      ]
    },
    {
      "cell_type": "code",
      "metadata": {
        "id": "b5tkZJUeCHku",
        "colab_type": "code",
        "colab": {}
      },
      "source": [
        "matFill= tf.fill((4,4),10)\n",
        "zeroes=tf.zeros(4,4)\n",
        "ones=tf.ones(4,4)\n",
        "rand=tf.random.normal((4,4),mean=1, stddev=1)"
      ],
      "execution_count": 0,
      "outputs": []
    },
    {
      "cell_type": "code",
      "metadata": {
        "id": "PgBwBW-fCQtO",
        "colab_type": "code",
        "colab": {}
      },
      "source": [
        "sess=tf.InteractiveSession()"
      ],
      "execution_count": 0,
      "outputs": []
    },
    {
      "cell_type": "code",
      "metadata": {
        "id": "xb4CR8mpDEsd",
        "colab_type": "code",
        "colab": {}
      },
      "source": [
        "List=[matFill,zeroes,ones,rand]"
      ],
      "execution_count": 0,
      "outputs": []
    },
    {
      "cell_type": "code",
      "metadata": {
        "id": "L0kuUQqlDZ69",
        "colab_type": "code",
        "outputId": "d4cc3851-e8c8-4893-daab-57cb96c917a1",
        "colab": {
          "base_uri": "https://localhost:8080/",
          "height": 191
        }
      },
      "source": [
        "for i in List:\n",
        "  result=sess.run(i)\n",
        "  print(result)"
      ],
      "execution_count": 0,
      "outputs": [
        {
          "output_type": "stream",
          "text": [
            "[[10 10 10 10]\n",
            " [10 10 10 10]\n",
            " [10 10 10 10]\n",
            " [10 10 10 10]]\n",
            "[0 0 0 0]\n",
            "[1 1 1 1]\n",
            "[[ 1.6185046   0.70866656  0.74870324  1.400517  ]\n",
            " [-0.15342307  0.48581302  0.02084225  2.6365857 ]\n",
            " [ 0.26819682  0.94577813  2.3461154   0.67806816]\n",
            " [ 0.2737276   1.1679513  -0.10935926 -0.03276539]]\n"
          ],
          "name": "stdout"
        }
      ]
    }
  ]
}