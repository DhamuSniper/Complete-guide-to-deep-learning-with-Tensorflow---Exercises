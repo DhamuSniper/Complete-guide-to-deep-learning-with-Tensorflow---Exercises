{
  "nbformat": 4,
  "nbformat_minor": 0,
  "metadata": {
    "colab": {
      "name": "First Tensorflow NN Model.ipynb",
      "version": "0.3.2",
      "provenance": [],
      "collapsed_sections": [],
      "include_colab_link": true
    },
    "kernelspec": {
      "name": "python3",
      "display_name": "Python 3"
    }
  },
  "cells": [
    {
      "cell_type": "markdown",
      "metadata": {
        "id": "view-in-github",
        "colab_type": "text"
      },
      "source": [
        "<a href=\"https://colab.research.google.com/github/DhamuSniper/Complete-guide-to-deep-learning-with-Tensorflow---Exercises/blob/master/First_Tensorflow_NN_Model.ipynb\" target=\"_parent\"><img src=\"https://colab.research.google.com/assets/colab-badge.svg\" alt=\"Open In Colab\"/></a>"
      ]
    },
    {
      "cell_type": "code",
      "metadata": {
        "id": "JT5LuH6snnpm",
        "colab_type": "code",
        "colab": {}
      },
      "source": [
        "import numpy as np\n",
        "import tensorflow as tf"
      ],
      "execution_count": 0,
      "outputs": []
    },
    {
      "cell_type": "code",
      "metadata": {
        "id": "1rwR1z4vn81_",
        "colab_type": "code",
        "colab": {}
      },
      "source": [
        "np.random.seed(101)\n",
        "tf.set_random_seed(101)"
      ],
      "execution_count": 0,
      "outputs": []
    },
    {
      "cell_type": "code",
      "metadata": {
        "id": "H-Ttk9CEoXG2",
        "colab_type": "code",
        "outputId": "ac4f268d-f2b2-4899-c1d0-51652999d6bd",
        "colab": {
          "base_uri": "https://localhost:8080/",
          "height": 104
        }
      },
      "source": [
        "a_rand=np.random.uniform(0,100,(5,5))\n",
        "print(a_rand)"
      ],
      "execution_count": 0,
      "outputs": [
        {
          "output_type": "stream",
          "text": [
            "[[99.43179012 52.06653967 57.87895355 73.48190583 54.19617722]\n",
            " [91.31535577 80.7920151  40.29978307 35.72243428 95.28767147]\n",
            " [34.36315779 86.50998163 83.02777122 53.81614492 92.24693726]\n",
            " [ 9.71464798 10.28474932 70.15072957 89.04798691 15.95603009]\n",
            " [27.55725449 67.24915297 16.4303124  70.13711366 48.76352222]]\n"
          ],
          "name": "stdout"
        }
      ]
    },
    {
      "cell_type": "code",
      "metadata": {
        "id": "cp5ehU7aosnG",
        "colab_type": "code",
        "outputId": "9c0fb5d5-1014-4188-ef22-8c9246b1b619",
        "colab": {
          "base_uri": "https://localhost:8080/",
          "height": 104
        }
      },
      "source": [
        "b_rand=np.random.uniform(0,100,(5,1))\n",
        "print(b_rand)"
      ],
      "execution_count": 0,
      "outputs": [
        {
          "output_type": "stream",
          "text": [
            "[[68.06777682]\n",
            " [52.15481923]\n",
            " [ 4.33966944]\n",
            " [22.39366035]\n",
            " [57.52050869]]\n"
          ],
          "name": "stdout"
        }
      ]
    },
    {
      "cell_type": "code",
      "metadata": {
        "id": "-vj9TeBTo0he",
        "colab_type": "code",
        "colab": {}
      },
      "source": [
        "a=tf.placeholder(tf.float32)"
      ],
      "execution_count": 0,
      "outputs": []
    },
    {
      "cell_type": "code",
      "metadata": {
        "id": "pk0u8aFBo-W1",
        "colab_type": "code",
        "colab": {}
      },
      "source": [
        "b=tf.placeholder(tf.float32)"
      ],
      "execution_count": 0,
      "outputs": []
    },
    {
      "cell_type": "code",
      "metadata": {
        "id": "-FPJkMODpHWm",
        "colab_type": "code",
        "colab": {}
      },
      "source": [
        "add_op=a+b\n",
        "mul_op=a*b"
      ],
      "execution_count": 0,
      "outputs": []
    },
    {
      "cell_type": "code",
      "metadata": {
        "id": "tt2HRJ5Tpc1-",
        "colab_type": "code",
        "outputId": "c180f43f-9927-4556-f2c3-b7bdc8400d67",
        "colab": {
          "base_uri": "https://localhost:8080/",
          "height": 191
        }
      },
      "source": [
        "with tf.Session() as sess:\n",
        "  add_result=sess.run(add_op,feed_dict={a:a_rand,b:b_rand})\n",
        "  print(add_result)\n",
        "  \n",
        "  mul_result=sess.run(mul_op,feed_dict={a:a_rand,b:b_rand})\n",
        "  print(mul_result)"
      ],
      "execution_count": 0,
      "outputs": [
        {
          "output_type": "stream",
          "text": [
            "[[167.49957  120.13432  125.94673  141.54968  122.26396 ]\n",
            " [143.47017  132.94684   92.454605  87.87726  147.44249 ]\n",
            " [ 38.702827  90.84965   87.36744   58.15581   96.58661 ]\n",
            " [ 32.108307  32.67841   92.54439  111.44165   38.34969 ]\n",
            " [ 85.07776  124.76966   73.95082  127.65762  106.28403 ]]\n",
            "[[6768.1016  3544.0537  3939.6917  5001.75    3689.0134 ]\n",
            " [4762.5356  4213.693   2101.828   1863.0972  4969.7114 ]\n",
            " [ 149.12474  375.42468  360.31305  233.54427  400.3212 ]\n",
            " [ 217.54652  230.31317 1570.9315  1994.1104   357.3139 ]\n",
            " [1585.1073  3868.2053   945.07996 4034.3225  2804.9026 ]]\n"
          ],
          "name": "stdout"
        }
      ]
    },
    {
      "cell_type": "markdown",
      "metadata": {
        "id": "a0qoaf7ctAFR",
        "colab_type": "text"
      },
      "source": [
        "# **Basic NEURAL NETWORK sample** (single layer)"
      ]
    },
    {
      "cell_type": "code",
      "metadata": {
        "id": "W9YufuxjtJu1",
        "colab_type": "code",
        "colab": {}
      },
      "source": [
        "n_features=10"
      ],
      "execution_count": 0,
      "outputs": []
    },
    {
      "cell_type": "code",
      "metadata": {
        "id": "0etPD-E7teBc",
        "colab_type": "code",
        "colab": {}
      },
      "source": [
        "n_dense_neurons=3"
      ],
      "execution_count": 0,
      "outputs": []
    },
    {
      "cell_type": "code",
      "metadata": {
        "id": "KApu044Jtnu5",
        "colab_type": "code",
        "colab": {}
      },
      "source": [
        "x=tf.placeholder(tf.float32,(None,n_features))"
      ],
      "execution_count": 0,
      "outputs": []
    },
    {
      "cell_type": "code",
      "metadata": {
        "id": "jyuRZJ7rwdDV",
        "colab_type": "code",
        "colab": {}
      },
      "source": [
        "w=tf.Variable(tf.random_normal([n_features,n_dense_neurons]))"
      ],
      "execution_count": 0,
      "outputs": []
    },
    {
      "cell_type": "code",
      "metadata": {
        "id": "StJiKajHwyFD",
        "colab_type": "code",
        "colab": {}
      },
      "source": [
        "b=tf.Variable(tf.ones([n_dense_neurons]))"
      ],
      "execution_count": 0,
      "outputs": []
    },
    {
      "cell_type": "code",
      "metadata": {
        "id": "mgwFLGmcxAXb",
        "colab_type": "code",
        "colab": {}
      },
      "source": [
        "wx=tf.matmul(x,w)"
      ],
      "execution_count": 0,
      "outputs": []
    },
    {
      "cell_type": "code",
      "metadata": {
        "id": "22IWBLv7xGhj",
        "colab_type": "code",
        "colab": {}
      },
      "source": [
        "z=tf.add(wx,b)"
      ],
      "execution_count": 0,
      "outputs": []
    },
    {
      "cell_type": "code",
      "metadata": {
        "id": "9TwhuZNryRaj",
        "colab_type": "code",
        "colab": {}
      },
      "source": [
        "act_fun=tf.sigmoid(z)"
      ],
      "execution_count": 0,
      "outputs": []
    },
    {
      "cell_type": "code",
      "metadata": {
        "id": "XqRDT4DWykRD",
        "colab_type": "code",
        "colab": {}
      },
      "source": [
        "init=tf.global_variables_initializer()"
      ],
      "execution_count": 0,
      "outputs": []
    },
    {
      "cell_type": "code",
      "metadata": {
        "id": "YqerXNuIyzry",
        "colab_type": "code",
        "colab": {}
      },
      "source": [
        "with tf.Session() as sess:\n",
        "  sess.run(init)\n",
        "  layer=sess.run(act_fun,feed_dict={x:np.random.random([1,n_features])})"
      ],
      "execution_count": 0,
      "outputs": []
    },
    {
      "cell_type": "code",
      "metadata": {
        "id": "yPw32j9-zmHa",
        "colab_type": "code",
        "outputId": "3a494877-daea-41ac-aa33-939f32028c13",
        "colab": {
          "base_uri": "https://localhost:8080/",
          "height": 35
        }
      },
      "source": [
        "print(layer)"
      ],
      "execution_count": 0,
      "outputs": [
        {
          "output_type": "stream",
          "text": [
            "[[0.9669144 0.712703  0.5567876]]\n"
          ],
          "name": "stdout"
        }
      ]
    },
    {
      "cell_type": "markdown",
      "metadata": {
        "id": "wf3cQe4ZzrZZ",
        "colab_type": "text"
      },
      "source": [
        "SIMPLE REGRESSION MODEL"
      ]
    },
    {
      "cell_type": "code",
      "metadata": {
        "id": "yGmb6ULrZMFp",
        "colab_type": "code",
        "colab": {}
      },
      "source": [
        "import matplotlib.pyplot as plt\n",
        "import tensorflow as tf\n",
        "import numpy as np\n",
        "%matplotlib inline"
      ],
      "execution_count": 0,
      "outputs": []
    },
    {
      "cell_type": "code",
      "metadata": {
        "id": "fuRtqYH-ZXGR",
        "colab_type": "code",
        "colab": {}
      },
      "source": [
        "x_data=np.linspace(0,10,10)+np.random.uniform(-1.5,1.5,10)\n",
        "y_data=np.linspace(0,10,10)+np.random.uniform(-1.5,1.5,10)"
      ],
      "execution_count": 0,
      "outputs": []
    },
    {
      "cell_type": "code",
      "metadata": {
        "id": "dIIaSsY8Zq7p",
        "colab_type": "code",
        "outputId": "3629f114-e19e-4faa-8148-a97a4ce01877",
        "colab": {
          "base_uri": "https://localhost:8080/",
          "height": 287
        }
      },
      "source": [
        "plt.plot(x_data,y_data,\"*\")"
      ],
      "execution_count": 0,
      "outputs": [
        {
          "output_type": "execute_result",
          "data": {
            "text/plain": [
              "[<matplotlib.lines.Line2D at 0x7f3326d74f28>]"
            ]
          },
          "metadata": {
            "tags": []
          },
          "execution_count": 7
        },
        {
          "output_type": "display_data",
          "data": {
            "image/png": "[encoded data removed]",
            "text/plain": [
              "<Figure size 432x288 with 1 Axes>"
            ]
          },
          "metadata": {
            "tags": []
          }
        }
      ]
    },
    {
      "cell_type": "code",
      "metadata": {
        "id": "w4vcgvzYeec3",
        "colab_type": "code",
        "colab": {}
      },
      "source": [
        "np.random.rand(2)"
      ],
      "execution_count": 0,
      "outputs": []
    },
    {
      "cell_type": "code",
      "metadata": {
        "id": "XvBHJmCAei11",
        "colab_type": "code",
        "colab": {}
      },
      "source": [
        "m=tf.Variable(0.008)\n",
        "b=tf.Variable( 0.157)"
      ],
      "execution_count": 0,
      "outputs": []
    },
    {
      "cell_type": "code",
      "metadata": {
        "id": "9-TCUkCwe2Ht",
        "colab_type": "code",
        "colab": {}
      },
      "source": [
        "error=0\n",
        "\n",
        "for x,y in zip(x_data,y_data):\n",
        "  y_pred=m*x+b\n",
        "  error=error+(y-y_pred)**2\n",
        "  "
      ],
      "execution_count": 0,
      "outputs": []
    },
    {
      "cell_type": "code",
      "metadata": {
        "id": "TamV-XiFfTad",
        "colab_type": "code",
        "colab": {}
      },
      "source": [
        "train=optimizer.minimize(error)\n",
        "optimizer=tf.train.GradientDescentOptimizer(learning_rate=0.001)\n"
      ],
      "execution_count": 0,
      "outputs": []
    },
    {
      "cell_type": "code",
      "metadata": {
        "id": "t1H2InRVgG5V",
        "colab_type": "code",
        "colab": {}
      },
      "source": [
        "init=tf.global_variables_initializer()"
      ],
      "execution_count": 0,
      "outputs": []
    },
    {
      "cell_type": "code",
      "metadata": {
        "id": "NXmD01WxgN-F",
        "colab_type": "code",
        "colab": {}
      },
      "source": [
        "with tf.Session() as sess:\n",
        "  sess.run(init)\n",
        "  \n",
        "  training_steps=5000\n",
        "  \n",
        "  for i in range(training_steps):\n",
        "    sess.run(train)\n",
        "    final_slope, final_intercept=sess.run([m,b])"
      ],
      "execution_count": 0,
      "outputs": []
    },
    {
      "cell_type": "code",
      "metadata": {
        "id": "ENuQc1mzgl6c",
        "colab_type": "code",
        "colab": {}
      },
      "source": [
        "x_test=np.linspace(-1,11,10)\n",
        "y_predPlot=final_slope*x_test+final_intercept"
      ],
      "execution_count": 0,
      "outputs": []
    },
    {
      "cell_type": "code",
      "metadata": {
        "id": "n9r3NEsvg4TE",
        "colab_type": "code",
        "outputId": "b6285ac4-074d-4d4b-bc5a-9c62308e5ee5",
        "colab": {
          "base_uri": "https://localhost:8080/",
          "height": 287
        }
      },
      "source": [
        "plt.plot(x_data,y_data,\"*\")\n",
        "plt.plot(x_test,y_predPlot,\"r\")\n"
      ],
      "execution_count": 0,
      "outputs": [
        {
          "output_type": "execute_result",
          "data": {
            "text/plain": [
              "[<matplotlib.lines.Line2D at 0x7f330adc7cc0>]"
            ]
          },
          "metadata": {
            "tags": []
          },
          "execution_count": 40
        },
        {
          "output_type": "display_data",
          "data": {
            "image/png": "[encoded data removed]",
            "text/plain": [
              "<Figure size 432x288 with 1 Axes>"
            ]
          },
          "metadata": {
            "tags": []
          }
        }
      ]
    }
  ]
}