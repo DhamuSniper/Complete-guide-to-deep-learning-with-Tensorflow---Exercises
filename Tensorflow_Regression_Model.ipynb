{
  "nbformat": 4,
  "nbformat_minor": 0,
  "metadata": {
    "colab": {
      "name": "Tensorflow Regression Model.ipynb",
      "version": "0.3.2",
      "provenance": [],
      "include_colab_link": true
    },
    "kernelspec": {
      "name": "python3",
      "display_name": "Python 3"
    }
  },
  "cells": [
    {
      "cell_type": "markdown",
      "metadata": {
        "id": "view-in-github",
        "colab_type": "text"
      },
      "source": [
        "<a href=\"https://colab.research.google.com/github/DhamuSniper/Complete-guide-to-deep-learning-with-Tensorflow---Exercises/blob/master/Tensorflow_Regression_Model.ipynb\" target=\"_parent\"><img src=\"https://colab.research.google.com/assets/colab-badge.svg\" alt=\"Open In Colab\"/></a>"
      ]
    },
    {
      "cell_type": "code",
      "metadata": {
        "id": "xm5nz6iKx6o4",
        "colab_type": "code",
        "colab": {}
      },
      "source": [
        "import numpy as np\n",
        "import pandas as pd\n",
        "import matplotlib.pyplot as plt\n",
        "%matplotlib inline\n",
        "\n"
      ],
      "execution_count": 0,
      "outputs": []
    },
    {
      "cell_type": "code",
      "metadata": {
        "id": "oUqOHjyN1CGD",
        "colab_type": "code",
        "colab": {}
      },
      "source": [
        "import tensorflow as tf"
      ],
      "execution_count": 0,
      "outputs": []
    },
    {
      "cell_type": "code",
      "metadata": {
        "id": "K0A6_S8VzPg0",
        "colab_type": "code",
        "outputId": "e4b3466d-f76e-49f0-d304-a72d02df52be",
        "colab": {
          "base_uri": "https://localhost:8080/",
          "height": 52
        }
      },
      "source": [
        "x_data=np.linspace(0.0,10.0,1000000)\n",
        "print(x_data)\n"
      ],
      "execution_count": 0,
      "outputs": [
        {
          "output_type": "stream",
          "text": [
            "[0.000000e+00 1.000001e-05 2.000002e-05 ... 9.999980e+00 9.999990e+00\n",
            " 1.000000e+01]\n"
          ],
          "name": "stdout"
        }
      ]
    },
    {
      "cell_type": "code",
      "metadata": {
        "id": "d8RsSAOUzZMb",
        "colab_type": "code",
        "outputId": "a23a25e4-c0d4-47ba-b004-5c9ec04d4cfd",
        "colab": {
          "base_uri": "https://localhost:8080/",
          "height": 52
        }
      },
      "source": [
        "noise=np.random.randn(len(x_data))\n",
        "noise"
      ],
      "execution_count": 0,
      "outputs": [
        {
          "output_type": "execute_result",
          "data": {
            "text/plain": [
              "array([-1.16630239e+00,  1.80679857e+00, -5.42518903e-01, ...,\n",
              "       -8.31009825e-01, -1.23493384e-01,  1.55698376e-03])"
            ]
          },
          "metadata": {
            "tags": []
          },
          "execution_count": 35
        }
      ]
    },
    {
      "cell_type": "code",
      "metadata": {
        "id": "yB6WRvFzzeAr",
        "colab_type": "code",
        "colab": {}
      },
      "source": [
        "y_true=(0.5*x_data)+5+noise"
      ],
      "execution_count": 0,
      "outputs": []
    },
    {
      "cell_type": "code",
      "metadata": {
        "id": "BAxSu1BMzkJL",
        "colab_type": "code",
        "colab": {}
      },
      "source": [
        "x_df=pd.DataFrame(data=x_data,columns=['X data'])"
      ],
      "execution_count": 0,
      "outputs": []
    },
    {
      "cell_type": "code",
      "metadata": {
        "id": "b9HXO2A-0PWr",
        "colab_type": "code",
        "colab": {}
      },
      "source": [
        "y_df=pd.DataFrame(data=y_true,columns=['Y'])"
      ],
      "execution_count": 0,
      "outputs": []
    },
    {
      "cell_type": "code",
      "metadata": {
        "id": "DddapCNs0Xfi",
        "colab_type": "code",
        "colab": {}
      },
      "source": [
        "my_data=pd.concat([x_df,y_df],axis=1)"
      ],
      "execution_count": 0,
      "outputs": []
    },
    {
      "cell_type": "code",
      "metadata": {
        "id": "FtZKPmeX0fJi",
        "colab_type": "code",
        "outputId": "76121ac5-ccee-409c-ec3b-b1afebfb911f",
        "colab": {
          "base_uri": "https://localhost:8080/",
          "height": 202
        }
      },
      "source": [
        "my_data.head()\n"
      ],
      "execution_count": 0,
      "outputs": [
        {
          "output_type": "execute_result",
          "data": {
            "text/html": [
              "<div>\n",
              "<style scoped>\n",
              "    .dataframe tbody tr th:only-of-type {\n",
              "        vertical-align: middle;\n",
              "    }\n",
              "\n",
              "    .dataframe tbody tr th {\n",
              "        vertical-align: top;\n",
              "    }\n",
              "\n",
              "    .dataframe thead th {\n",
              "        text-align: right;\n",
              "    }\n",
              "</style>\n",
              "<table border=\"1\" class=\"dataframe\">\n",
              "  <thead>\n",
              "    <tr style=\"text-align: right;\">\n",
              "      <th></th>\n",
              "      <th>X data</th>\n",
              "      <th>Y</th>\n",
              "    </tr>\n",
              "  </thead>\n",
              "  <tbody>\n",
              "    <tr>\n",
              "      <th>0</th>\n",
              "      <td>0.00000</td>\n",
              "      <td>5.000000</td>\n",
              "    </tr>\n",
              "    <tr>\n",
              "      <th>1</th>\n",
              "      <td>0.00001</td>\n",
              "      <td>5.000005</td>\n",
              "    </tr>\n",
              "    <tr>\n",
              "      <th>2</th>\n",
              "      <td>0.00002</td>\n",
              "      <td>5.000010</td>\n",
              "    </tr>\n",
              "    <tr>\n",
              "      <th>3</th>\n",
              "      <td>0.00003</td>\n",
              "      <td>5.000015</td>\n",
              "    </tr>\n",
              "    <tr>\n",
              "      <th>4</th>\n",
              "      <td>0.00004</td>\n",
              "      <td>5.000020</td>\n",
              "    </tr>\n",
              "  </tbody>\n",
              "</table>\n",
              "</div>"
            ],
            "text/plain": [
              "    X data         Y\n",
              "0  0.00000  5.000000\n",
              "1  0.00001  5.000005\n",
              "2  0.00002  5.000010\n",
              "3  0.00003  5.000015\n",
              "4  0.00004  5.000020"
            ]
          },
          "metadata": {
            "tags": []
          },
          "execution_count": 28
        }
      ]
    },
    {
      "cell_type": "code",
      "metadata": {
        "id": "sZnqSM1P1pCD",
        "colab_type": "code",
        "outputId": "b7b1a18c-a238-4b70-8565-f25c8d713e5a",
        "colab": {
          "base_uri": "https://localhost:8080/",
          "height": 301
        }
      },
      "source": [
        "my_data.sample(n=100).plot(kind='scatter',x='X data',y='Y')"
      ],
      "execution_count": 0,
      "outputs": [
        {
          "output_type": "execute_result",
          "data": {
            "text/plain": [
              "<matplotlib.axes._subplots.AxesSubplot at 0x7fe51aa94550>"
            ]
          },
          "metadata": {
            "tags": []
          },
          "execution_count": 45
        },
        {
          "output_type": "display_data",
          "data": {
            "image/png": "[encoded data removed]",
            "text/plain": [
              "<Figure size 432x288 with 1 Axes>"
            ]
          },
          "metadata": {
            "tags": []
          }
        }
      ]
    },
    {
      "cell_type": "code",
      "metadata": {
        "id": "ztckuGtK3Q5R",
        "colab_type": "code",
        "colab": {}
      },
      "source": [
        "batch_size=8"
      ],
      "execution_count": 0,
      "outputs": []
    },
    {
      "cell_type": "code",
      "metadata": {
        "id": "_uXIdp8V3YrS",
        "colab_type": "code",
        "outputId": "bd1b177d-ac7a-4ac4-e3da-4dfb33640e07",
        "colab": {
          "base_uri": "https://localhost:8080/",
          "height": 35
        }
      },
      "source": [
        "np.random.randn(2)"
      ],
      "execution_count": 0,
      "outputs": [
        {
          "output_type": "execute_result",
          "data": {
            "text/plain": [
              "array([-0.34425685, -0.44593259])"
            ]
          },
          "metadata": {
            "tags": []
          },
          "execution_count": 47
        }
      ]
    },
    {
      "cell_type": "code",
      "metadata": {
        "id": "mS_m46Wl3nnB",
        "colab_type": "code",
        "colab": {}
      },
      "source": [
        "m=tf.Variable(0.34)\n",
        "b=tf.Variable(0.44)"
      ],
      "execution_count": 0,
      "outputs": []
    },
    {
      "cell_type": "code",
      "metadata": {
        "id": "O1hTc5bj37Rp",
        "colab_type": "code",
        "colab": {}
      },
      "source": [
        "xph=tf.placeholder(tf.float32,[batch_size])\n",
        "yph=tf.placeholder(tf.float32,[batch_size])"
      ],
      "execution_count": 0,
      "outputs": []
    },
    {
      "cell_type": "code",
      "metadata": {
        "id": "5b9-4QF48W1f",
        "colab_type": "code",
        "colab": {}
      },
      "source": [
        "y_model=m*xph+b"
      ],
      "execution_count": 0,
      "outputs": []
    },
    {
      "cell_type": "code",
      "metadata": {
        "id": "XyNx1fE58dXf",
        "colab_type": "code",
        "colab": {}
      },
      "source": [
        "error=tf.reduce_mean(tf.square(yph-y_model))"
      ],
      "execution_count": 0,
      "outputs": []
    },
    {
      "cell_type": "code",
      "metadata": {
        "id": "jWtSVwct8nqn",
        "colab_type": "code",
        "colab": {}
      },
      "source": [
        "optimizer=tf.train.GradientDescentOptimizer(learning_rate=0.001)\n",
        "train=optimizer.minimize(error)\n"
      ],
      "execution_count": 0,
      "outputs": []
    },
    {
      "cell_type": "code",
      "metadata": {
        "id": "imcJAneU9nhf",
        "colab_type": "code",
        "colab": {}
      },
      "source": [
        "init=tf.global_variables_initializer()"
      ],
      "execution_count": 0,
      "outputs": []
    },
    {
      "cell_type": "code",
      "metadata": {
        "id": "C9g9p8lK9z-F",
        "colab_type": "code",
        "colab": {}
      },
      "source": [
        "with tf.Session() as sess:\n",
        "  sess.run(init)\n",
        "  \n",
        "  batches=10000\n",
        "  \n",
        "  for i in range(batches):\n",
        "    \n",
        "    rand_ind=np.random.randint(len(x_data),size=batch_size)\n",
        "    \n",
        "    feed={xph:x_data[rand_ind],yph:y_true[rand_ind]}\n",
        "    \n",
        "    sess.run(train,feed_dict=feed)\n",
        "  model_m ,model_b=sess.run([m,b])\n",
        "  "
      ],
      "execution_count": 0,
      "outputs": []
    },
    {
      "cell_type": "code",
      "metadata": {
        "id": "3AhpAp12-e_U",
        "colab_type": "code",
        "colab": {}
      },
      "source": [
        "y_hat=x_data*model_m+model_b"
      ],
      "execution_count": 0,
      "outputs": []
    },
    {
      "cell_type": "code",
      "metadata": {
        "id": "P6r7n2kg_nS5",
        "colab_type": "code",
        "outputId": "2a9053e9-f232-4114-822c-6c19bcff2eac",
        "colab": {
          "base_uri": "https://localhost:8080/",
          "height": 301
        }
      },
      "source": [
        "my_data.sample(n=100).plot(kind='scatter',x='X data',y='Y')\n",
        "plt.plot(x_data,y_hat,\"r\")"
      ],
      "execution_count": 0,
      "outputs": [
        {
          "output_type": "execute_result",
          "data": {
            "text/plain": [
              "[<matplotlib.lines.Line2D at 0x7fe514dec710>]"
            ]
          },
          "metadata": {
            "tags": []
          },
          "execution_count": 71
        },
        {
          "output_type": "display_data",
          "data": {
            "image/png": "[encoded data removed]",
            "text/plain": [
              "<Figure size 432x288 with 1 Axes>"
            ]
          },
          "metadata": {
            "tags": []
          }
        }
      ]
    },
    {
      "cell_type": "markdown",
      "metadata": {
        "id": "Ot6crmNA82qD",
        "colab_type": "text"
      },
      "source": [
        "TENSORFLOW ESTIMATOR API\n"
      ]
    },
    {
      "cell_type": "code",
      "metadata": {
        "id": "p8JpRjdX_042",
        "colab_type": "code",
        "colab": {}
      },
      "source": [
        "import tensorflow as tf\n",
        "import numpy as np\n",
        "import pandas as pd\n",
        "import matplotlib.pyplot as plt\n",
        "%matplotlib inline\n",
        "\n"
      ],
      "execution_count": 0,
      "outputs": []
    },
    {
      "cell_type": "markdown",
      "metadata": {
        "id": "6FXxembX_S6B",
        "colab_type": "text"
      },
      "source": [
        "Defining the list of feature columns"
      ]
    },
    {
      "cell_type": "code",
      "metadata": {
        "id": "fb5D4c5h9qQY",
        "colab_type": "code",
        "colab": {}
      },
      "source": [
        "feat_cols=[tf.feature_column.numeric_column('x',shape=[1])]"
      ],
      "execution_count": 0,
      "outputs": []
    },
    {
      "cell_type": "markdown",
      "metadata": {
        "id": "uEacYcJC9_Lq",
        "colab_type": "text"
      },
      "source": [
        "Data preprocessing"
      ]
    },
    {
      "cell_type": "code",
      "metadata": {
        "id": "TCffEHhr9XUq",
        "colab_type": "code",
        "colab": {}
      },
      "source": [
        "x_data=np.linspace(0.0,10.0,1000000)\n",
        "noise=np.random.randn(len(x_data))\n",
        "y_true=(0.5*x_data)+5+noise\n",
        "x_df=pd.DataFrame(data=x_data,columns=['X data'])\n",
        "y_df=pd.DataFrame(data=y_true,columns=['Y'])\n",
        "my_data=pd.concat([x_df,y_df],axis=1)"
      ],
      "execution_count": 0,
      "outputs": []
    },
    {
      "cell_type": "code",
      "metadata": {
        "id": "FWZzJpuQ_EMJ",
        "colab_type": "code",
        "colab": {
          "base_uri": "https://localhost:8080/",
          "height": 301
        },
        "outputId": "181023da-c3c4-4786-b472-2932d63f031d"
      },
      "source": [
        "my_data.sample(n=250).plot(kind=\"scatter\",x='X data',y='Y')"
      ],
      "execution_count": 9,
      "outputs": [
        {
          "output_type": "execute_result",
          "data": {
            "text/plain": [
              "<matplotlib.axes._subplots.AxesSubplot at 0x7f8ac7ee7780>"
            ]
          },
          "metadata": {
            "tags": []
          },
          "execution_count": 9
        },
        {
          "output_type": "display_data",
          "data": {
            "image/png": "[encoded data removed]",
            "text/plain": [
              "<Figure size 432x288 with 1 Axes>"
            ]
          },
          "metadata": {
            "tags": []
          }
        }
      ]
    },
    {
      "cell_type": "markdown",
      "metadata": {
        "id": "l41JFkmj_fx4",
        "colab_type": "text"
      },
      "source": [
        "creating the estimator model"
      ]
    },
    {
      "cell_type": "code",
      "metadata": {
        "id": "0oYQNmjK_kb4",
        "colab_type": "code",
        "colab": {
          "base_uri": "https://localhost:8080/",
          "height": 72
        },
        "outputId": "dfa1385a-aa34-4ca1-94a2-f21f2fefb328"
      },
      "source": [
        "estimator=tf.estimator.LinearRegressor(feature_columns=feat_cols)"
      ],
      "execution_count": 11,
      "outputs": [
        {
          "output_type": "stream",
          "text": [
            "WARNING: Logging before flag parsing goes to stderr.\n",
            "W0707 10:36:59.796692 140234977900416 estimator.py:1811] Using temporary folder as model directory: /tmp/tmpeayqdgo6\n"
          ],
          "name": "stderr"
        }
      ]
    },
    {
      "cell_type": "markdown",
      "metadata": {
        "id": "3Jol22NfAuGI",
        "colab_type": "text"
      },
      "source": [
        "Train test split and creation of estimator model"
      ]
    },
    {
      "cell_type": "code",
      "metadata": {
        "id": "sk3eZmf5AriB",
        "colab_type": "code",
        "colab": {}
      },
      "source": [
        "from sklearn.model_selection import train_test_split\n",
        "\n",
        "x_train,x_test,y_train,y_test=train_test_split(x_data,y_true,test_size=0.3,random_state=101)"
      ],
      "execution_count": 0,
      "outputs": []
    },
    {
      "cell_type": "code",
      "metadata": {
        "id": "hC8xngvlBVAH",
        "colab_type": "code",
        "colab": {}
      },
      "source": [
        "input_func=tf.estimator.inputs.numpy_input_fn({'x':x_train},y_train,batch_size=8,num_epochs=None,shuffle=True)"
      ],
      "execution_count": 0,
      "outputs": []
    },
    {
      "cell_type": "code",
      "metadata": {
        "id": "YzKXgVyDBZYA",
        "colab_type": "code",
        "colab": {}
      },
      "source": [
        "train_input_func=tf.estimator.inputs.numpy_input_fn({'x':x_train},y_train,batch_size=8,num_epochs=None,shuffle=False)"
      ],
      "execution_count": 0,
      "outputs": []
    },
    {
      "cell_type": "code",
      "metadata": {
        "id": "ShuRZdtTCOQr",
        "colab_type": "code",
        "colab": {}
      },
      "source": [
        "test_input_func=tf.estimator.inputs.numpy_input_fn({'x':x_test},y_test,batch_size=8,num_epochs=None,shuffle=False)"
      ],
      "execution_count": 0,
      "outputs": []
    },
    {
      "cell_type": "code",
      "metadata": {
        "id": "3E-q_I08CZBn",
        "colab_type": "code",
        "colab": {
          "base_uri": "https://localhost:8080/",
          "height": 35
        },
        "outputId": "e53213d5-fd81-4c8a-9004-552a52002d4c"
      },
      "source": [
        "estimator.train(input_fn=input_func,steps=1000)"
      ],
      "execution_count": 24,
      "outputs": [
        {
          "output_type": "execute_result",
          "data": {
            "text/plain": [
              "<tensorflow_estimator.python.estimator.canned.linear.LinearRegressor at 0x7f8ac7f66c50>"
            ]
          },
          "metadata": {
            "tags": []
          },
          "execution_count": 24
        }
      ]
    },
    {
      "cell_type": "code",
      "metadata": {
        "id": "B7CsAtpJDKJn",
        "colab_type": "code",
        "colab": {}
      },
      "source": [
        "train_metrics=estimator.evaluate(input_fn=train_input_func,steps=1000)"
      ],
      "execution_count": 0,
      "outputs": []
    },
    {
      "cell_type": "code",
      "metadata": {
        "id": "XZwgajlpEUCH",
        "colab_type": "code",
        "colab": {
          "base_uri": "https://localhost:8080/",
          "height": 55
        },
        "outputId": "62fd6ff7-93cb-4158-af08-843d482ab6c2"
      },
      "source": [
        "print(train_metrics)"
      ],
      "execution_count": 26,
      "outputs": [
        {
          "output_type": "stream",
          "text": [
            "{'average_loss': 1.018223, 'label/mean': 7.529453, 'loss': 8.145784, 'prediction/mean': 7.5550127, 'global_step': 3000}\n"
          ],
          "name": "stdout"
        }
      ]
    },
    {
      "cell_type": "code",
      "metadata": {
        "id": "JS178T-1EY_2",
        "colab_type": "code",
        "colab": {
          "base_uri": "https://localhost:8080/",
          "height": 55
        },
        "outputId": "d75c1efe-723e-405e-8fce-1c550c67c1b6"
      },
      "source": [
        "test_metrics=estimator.evaluate(input_fn=test_input_func,steps=1000)\n",
        "print(test_metrics)"
      ],
      "execution_count": 29,
      "outputs": [
        {
          "output_type": "stream",
          "text": [
            "{'average_loss': 0.99550086, 'label/mean': 7.4990616, 'loss': 7.964007, 'prediction/mean': 7.5365286, 'global_step': 3000}\n"
          ],
          "name": "stdout"
        }
      ]
    },
    {
      "cell_type": "markdown",
      "metadata": {
        "id": "aCenKYDOEyjO",
        "colab_type": "text"
      },
      "source": [
        "brand new data with trained model"
      ]
    },
    {
      "cell_type": "code",
      "metadata": {
        "id": "08smhByGE2ja",
        "colab_type": "code",
        "colab": {}
      },
      "source": [
        "brand_new_data=np.linspace(0,10,10)\n",
        "input_func_pred=tf.estimator.inputs.numpy_input_fn({'x':brand_new_data},shuffle=False)"
      ],
      "execution_count": 0,
      "outputs": []
    },
    {
      "cell_type": "code",
      "metadata": {
        "id": "PEcYNEz5FiyO",
        "colab_type": "code",
        "colab": {
          "base_uri": "https://localhost:8080/",
          "height": 191
        },
        "outputId": "3325a466-fe47-4591-a544-c8226b49ec80"
      },
      "source": [
        "list(estimator.predict(input_fn=input_func_pred))"
      ],
      "execution_count": 34,
      "outputs": [
        {
          "output_type": "execute_result",
          "data": {
            "text/plain": [
              "[{'predictions': array([4.9959793], dtype=float32)},\n",
              " {'predictions': array([5.5643983], dtype=float32)},\n",
              " {'predictions': array([6.1328173], dtype=float32)},\n",
              " {'predictions': array([6.7012367], dtype=float32)},\n",
              " {'predictions': array([7.2696557], dtype=float32)},\n",
              " {'predictions': array([7.8380747], dtype=float32)},\n",
              " {'predictions': array([8.406494], dtype=float32)},\n",
              " {'predictions': array([8.974913], dtype=float32)},\n",
              " {'predictions': array([9.543332], dtype=float32)},\n",
              " {'predictions': array([10.111752], dtype=float32)}]"
            ]
          },
          "metadata": {
            "tags": []
          },
          "execution_count": 34
        }
      ]
    },
    {
      "cell_type": "code",
      "metadata": {
        "id": "vO1ybYVwF0BG",
        "colab_type": "code",
        "colab": {
          "base_uri": "https://localhost:8080/",
          "height": 55
        },
        "outputId": "c34aef96-5b47-4ca5-eb26-dba6ef96165c"
      },
      "source": [
        "predictions=[]\n",
        "for i in estimator.predict(input_fn=input_func_pred):\n",
        "  predictions.append(i['predictions'])\n",
        "print(predictions)"
      ],
      "execution_count": 36,
      "outputs": [
        {
          "output_type": "stream",
          "text": [
            "[array([4.9959793], dtype=float32), array([5.5643983], dtype=float32), array([6.1328173], dtype=float32), array([6.7012367], dtype=float32), array([7.2696557], dtype=float32), array([7.8380747], dtype=float32), array([8.406494], dtype=float32), array([8.974913], dtype=float32), array([9.543332], dtype=float32), array([10.111752], dtype=float32)]\n"
          ],
          "name": "stdout"
        }
      ]
    },
    {
      "cell_type": "code",
      "metadata": {
        "id": "iiVQ-RQ_GRyV",
        "colab_type": "code",
        "colab": {
          "base_uri": "https://localhost:8080/",
          "height": 301
        },
        "outputId": "c3f09359-3835-40a2-ddda-761a6bb071e5"
      },
      "source": [
        "my_data.sample(n=250).plot(kind=\"scatter\",x='X data',y='Y')\n",
        "plt.plot(brand_new_data,predictions,'r')"
      ],
      "execution_count": 38,
      "outputs": [
        {
          "output_type": "execute_result",
          "data": {
            "text/plain": [
              "[<matplotlib.lines.Line2D at 0x7f8abcede6a0>]"
            ]
          },
          "metadata": {
            "tags": []
          },
          "execution_count": 38
        },
        {
          "output_type": "display_data",
          "data": {
            "image/png": "[encoded data removed]",
            "text/plain": [
              "<Figure size 432x288 with 1 Axes>"
            ]
          },
          "metadata": {
            "tags": []
          }
        }
      ]
    }
  ]
}